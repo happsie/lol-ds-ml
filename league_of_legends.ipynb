{
 "cells": [
  {
   "cell_type": "code",
   "execution_count": 11,
   "id": "a0e22e6f-93ac-4128-949d-24b4668297af",
   "metadata": {
    "tags": []
   },
   "outputs": [
    {
     "name": "stdout",
     "output_type": "stream",
     "text": [
      "data already exists, will not download\n"
     ]
    }
   ],
   "source": [
    "%run fetch_data.py"
   ]
  },
  {
   "cell_type": "code",
   "execution_count": 26,
   "id": "d20d9704-f2d3-4917-8950-b5435fc608f8",
   "metadata": {
    "tags": []
   },
   "outputs": [],
   "source": [
    "%run format_data.py"
   ]
  },
  {
   "cell_type": "code",
   "execution_count": 27,
   "id": "0b9c1553-a394-4baf-94a8-c32a36c7d606",
   "metadata": {
    "tags": []
   },
   "outputs": [],
   "source": [
    "import numpy as np"
   ]
  },
  {
   "cell_type": "code",
   "execution_count": 28,
   "id": "e5f71389-f66c-49e7-86f2-cbeb21a568d9",
   "metadata": {
    "tags": []
   },
   "outputs": [],
   "source": [
    "%matplotlib inline\n",
    "import matplotlib.pyplot as plt"
   ]
  },
  {
   "cell_type": "code",
   "execution_count": 29,
   "id": "ea2878c2-19d8-4c66-a686-621eee32bbac",
   "metadata": {
    "tags": []
   },
   "outputs": [
    {
     "data": {
      "text/html": [
       "<div>\n",
       "<style scoped>\n",
       "    .dataframe tbody tr th:only-of-type {\n",
       "        vertical-align: middle;\n",
       "    }\n",
       "\n",
       "    .dataframe tbody tr th {\n",
       "        vertical-align: top;\n",
       "    }\n",
       "\n",
       "    .dataframe thead th {\n",
       "        text-align: right;\n",
       "    }\n",
       "</style>\n",
       "<table border=\"1\" class=\"dataframe\">\n",
       "  <thead>\n",
       "    <tr style=\"text-align: right;\">\n",
       "      <th></th>\n",
       "      <th>summoner name</th>\n",
       "      <th>game duration</th>\n",
       "      <th>win</th>\n",
       "      <th>champion</th>\n",
       "      <th>champion id</th>\n",
       "      <th>champion level</th>\n",
       "      <th>deaths</th>\n",
       "      <th>kills</th>\n",
       "      <th>assists</th>\n",
       "      <th>role</th>\n",
       "      <th>wards killed</th>\n",
       "      <th>wards placed</th>\n",
       "    </tr>\n",
       "  </thead>\n",
       "  <tbody>\n",
       "    <tr>\n",
       "      <th>0</th>\n",
       "      <td>Cillian Murphy1</td>\n",
       "      <td>1627</td>\n",
       "      <td>1</td>\n",
       "      <td>Sion</td>\n",
       "      <td>14</td>\n",
       "      <td>16</td>\n",
       "      <td>6</td>\n",
       "      <td>2</td>\n",
       "      <td>17</td>\n",
       "      <td>SOLO</td>\n",
       "      <td>2</td>\n",
       "      <td>14</td>\n",
       "    </tr>\n",
       "    <tr>\n",
       "      <th>1</th>\n",
       "      <td>HMpeiwan offlÏne</td>\n",
       "      <td>1627</td>\n",
       "      <td>1</td>\n",
       "      <td>Khazix</td>\n",
       "      <td>121</td>\n",
       "      <td>16</td>\n",
       "      <td>2</td>\n",
       "      <td>14</td>\n",
       "      <td>5</td>\n",
       "      <td>NONE</td>\n",
       "      <td>7</td>\n",
       "      <td>5</td>\n",
       "    </tr>\n",
       "    <tr>\n",
       "      <th>2</th>\n",
       "      <td>goodtoknowyouhah</td>\n",
       "      <td>1627</td>\n",
       "      <td>1</td>\n",
       "      <td>Neeko</td>\n",
       "      <td>518</td>\n",
       "      <td>17</td>\n",
       "      <td>1</td>\n",
       "      <td>9</td>\n",
       "      <td>10</td>\n",
       "      <td>SOLO</td>\n",
       "      <td>2</td>\n",
       "      <td>6</td>\n",
       "    </tr>\n",
       "    <tr>\n",
       "      <th>3</th>\n",
       "      <td>Server Menace</td>\n",
       "      <td>1627</td>\n",
       "      <td>1</td>\n",
       "      <td>Draven</td>\n",
       "      <td>119</td>\n",
       "      <td>14</td>\n",
       "      <td>7</td>\n",
       "      <td>7</td>\n",
       "      <td>5</td>\n",
       "      <td>CARRY</td>\n",
       "      <td>3</td>\n",
       "      <td>8</td>\n",
       "    </tr>\n",
       "    <tr>\n",
       "      <th>4</th>\n",
       "      <td>Chapter 4</td>\n",
       "      <td>1627</td>\n",
       "      <td>1</td>\n",
       "      <td>Janna</td>\n",
       "      <td>40</td>\n",
       "      <td>13</td>\n",
       "      <td>4</td>\n",
       "      <td>1</td>\n",
       "      <td>22</td>\n",
       "      <td>SUPPORT</td>\n",
       "      <td>6</td>\n",
       "      <td>34</td>\n",
       "    </tr>\n",
       "  </tbody>\n",
       "</table>\n",
       "</div>"
      ],
      "text/plain": [
       "      summoner name  game duration  win champion  champion id  champion level  \\\n",
       "0   Cillian Murphy1           1627    1     Sion           14              16   \n",
       "1  HMpeiwan offlÏne           1627    1   Khazix          121              16   \n",
       "2  goodtoknowyouhah           1627    1    Neeko          518              17   \n",
       "3     Server Menace           1627    1   Draven          119              14   \n",
       "4         Chapter 4           1627    1    Janna           40              13   \n",
       "\n",
       "   deaths  kills  assists     role  wards killed  wards placed  \n",
       "0       6      2       17     SOLO             2            14  \n",
       "1       2     14        5     NONE             7             5  \n",
       "2       1      9       10     SOLO             2             6  \n",
       "3       7      7        5    CARRY             3             8  \n",
       "4       4      1       22  SUPPORT             6            34  "
      ]
     },
     "execution_count": 29,
     "metadata": {},
     "output_type": "execute_result"
    }
   ],
   "source": [
    "import pandas as pd\n",
    "matches_df = pd.read_csv(\"./matches_formatted.csv\")\n",
    "matches_df.head()"
   ]
  },
  {
   "cell_type": "code",
   "execution_count": null,
   "id": "06dd964f-400a-4013-9810-818143b2608f",
   "metadata": {},
   "outputs": [],
   "source": []
  }
 ],
 "metadata": {
  "kernelspec": {
   "display_name": "Python 3 (ipykernel)",
   "language": "python",
   "name": "python3"
  },
  "language_info": {
   "codemirror_mode": {
    "name": "ipython",
    "version": 3
   },
   "file_extension": ".py",
   "mimetype": "text/x-python",
   "name": "python",
   "nbconvert_exporter": "python",
   "pygments_lexer": "ipython3",
   "version": "3.11.4"
  }
 },
 "nbformat": 4,
 "nbformat_minor": 5
}
